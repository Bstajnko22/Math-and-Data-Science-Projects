{
 "cells": [
  {
   "cell_type": "code",
   "execution_count": 1,
   "id": "9561f391",
   "metadata": {},
   "outputs": [],
   "source": [
    "# Import the relevant libraries.\n",
    "import numpy as np\n",
    "import pandas as pd\n",
    "import matplotlib.pyplot as plt\n",
    "import datetime as dt\n",
    "import seaborn as sns\n",
    "import statsmodels.api as sm\n",
    "from pandas_datareader import data as pdr\n",
    "from sklearn.linear_model import LinearRegression\n",
    "# Prettier graphs.\n",
    "sns.set()"
   ]
  },
  {
   "cell_type": "markdown",
   "id": "56ea768f",
   "metadata": {},
   "source": [
    "## Getting the data:"
   ]
  },
  {
   "cell_type": "code",
   "execution_count": 2,
   "id": "a1f3d80a",
   "metadata": {},
   "outputs": [
    {
     "data": {
      "text/html": [
       "<div>\n",
       "<style scoped>\n",
       "    .dataframe tbody tr th:only-of-type {\n",
       "        vertical-align: middle;\n",
       "    }\n",
       "\n",
       "    .dataframe tbody tr th {\n",
       "        vertical-align: top;\n",
       "    }\n",
       "\n",
       "    .dataframe thead th {\n",
       "        text-align: right;\n",
       "    }\n",
       "</style>\n",
       "<table border=\"1\" class=\"dataframe\">\n",
       "  <thead>\n",
       "    <tr style=\"text-align: right;\">\n",
       "      <th></th>\n",
       "      <th>AVERAGE ULP TGPS\\n(inclusive of GST)</th>\n",
       "      <th>Sydney</th>\n",
       "      <th>Melbourne</th>\n",
       "      <th>Brisbane</th>\n",
       "      <th>Adelaide</th>\n",
       "      <th>Perth</th>\n",
       "      <th>Darwin</th>\n",
       "      <th>Hobart</th>\n",
       "      <th>National\\nAverage</th>\n",
       "    </tr>\n",
       "  </thead>\n",
       "  <tbody>\n",
       "    <tr>\n",
       "      <th>0</th>\n",
       "      <td>2004-01-01</td>\n",
       "      <td>86.3</td>\n",
       "      <td>85.1</td>\n",
       "      <td>86.4</td>\n",
       "      <td>87.2</td>\n",
       "      <td>88.5</td>\n",
       "      <td>89.7</td>\n",
       "      <td>87.9</td>\n",
       "      <td>86.4</td>\n",
       "    </tr>\n",
       "    <tr>\n",
       "      <th>1</th>\n",
       "      <td>2004-01-02</td>\n",
       "      <td>86.3</td>\n",
       "      <td>85.1</td>\n",
       "      <td>86.4</td>\n",
       "      <td>87.2</td>\n",
       "      <td>88.5</td>\n",
       "      <td>89.7</td>\n",
       "      <td>87.9</td>\n",
       "      <td>86.4</td>\n",
       "    </tr>\n",
       "    <tr>\n",
       "      <th>2</th>\n",
       "      <td>2004-01-05</td>\n",
       "      <td>86.4</td>\n",
       "      <td>85.3</td>\n",
       "      <td>86.4</td>\n",
       "      <td>87.2</td>\n",
       "      <td>89.0</td>\n",
       "      <td>89.7</td>\n",
       "      <td>87.9</td>\n",
       "      <td>86.5</td>\n",
       "    </tr>\n",
       "    <tr>\n",
       "      <th>3</th>\n",
       "      <td>2004-01-06</td>\n",
       "      <td>86.8</td>\n",
       "      <td>85.6</td>\n",
       "      <td>87.0</td>\n",
       "      <td>87.7</td>\n",
       "      <td>89.1</td>\n",
       "      <td>90.3</td>\n",
       "      <td>88.5</td>\n",
       "      <td>86.9</td>\n",
       "    </tr>\n",
       "    <tr>\n",
       "      <th>4</th>\n",
       "      <td>2004-01-07</td>\n",
       "      <td>86.7</td>\n",
       "      <td>85.5</td>\n",
       "      <td>87.0</td>\n",
       "      <td>87.7</td>\n",
       "      <td>89.1</td>\n",
       "      <td>90.3</td>\n",
       "      <td>88.5</td>\n",
       "      <td>86.8</td>\n",
       "    </tr>\n",
       "  </tbody>\n",
       "</table>\n",
       "</div>"
      ],
      "text/plain": [
       "  AVERAGE ULP TGPS\\n(inclusive of GST)  Sydney  Melbourne  Brisbane  Adelaide  \\\n",
       "0                           2004-01-01    86.3       85.1      86.4      87.2   \n",
       "1                           2004-01-02    86.3       85.1      86.4      87.2   \n",
       "2                           2004-01-05    86.4       85.3      86.4      87.2   \n",
       "3                           2004-01-06    86.8       85.6      87.0      87.7   \n",
       "4                           2004-01-07    86.7       85.5      87.0      87.7   \n",
       "\n",
       "   Perth  Darwin  Hobart  National\\nAverage  \n",
       "0   88.5    89.7    87.9               86.4  \n",
       "1   88.5    89.7    87.9               86.4  \n",
       "2   89.0    89.7    87.9               86.5  \n",
       "3   89.1    90.3    88.5               86.9  \n",
       "4   89.1    90.3    88.5               86.8  "
      ]
     },
     "execution_count": 2,
     "metadata": {},
     "output_type": "execute_result"
    }
   ],
   "source": [
    "# First off lets get the petrol price data.\n",
    "# This can be obtained via the Australian Institute of Petroleum website.\n",
    "# It is in a excel file on page 2.\n",
    "petrol_df = pd.read_excel(io = \"https://www.aip.com.au/sites/default/files/download-files/2022-02/AIP_TGP_Data_11-Feb-2022.xlsx\", sheet_name = \"Petrol TGP\")\n",
    "petrol_df.head()"
   ]
  },
  {
   "cell_type": "code",
   "execution_count": 3,
   "id": "5a4a3a85",
   "metadata": {},
   "outputs": [],
   "source": [
    "# Petrol dataset goes back to 2004, will do the same for oil data.\n",
    "# Need to set datetime objects with the relevant time data.\n",
    "start = dt.datetime(2004, 1, 1)\n",
    "end = dt.datetime.now()"
   ]
  },
  {
   "cell_type": "code",
   "execution_count": 4,
   "id": "8b1957e4",
   "metadata": {},
   "outputs": [
    {
     "data": {
      "text/html": [
       "<div>\n",
       "<style scoped>\n",
       "    .dataframe tbody tr th:only-of-type {\n",
       "        vertical-align: middle;\n",
       "    }\n",
       "\n",
       "    .dataframe tbody tr th {\n",
       "        vertical-align: top;\n",
       "    }\n",
       "\n",
       "    .dataframe thead th {\n",
       "        text-align: right;\n",
       "    }\n",
       "</style>\n",
       "<table border=\"1\" class=\"dataframe\">\n",
       "  <thead>\n",
       "    <tr style=\"text-align: right;\">\n",
       "      <th></th>\n",
       "      <th>High</th>\n",
       "      <th>Low</th>\n",
       "      <th>Open</th>\n",
       "      <th>Close</th>\n",
       "      <th>Volume</th>\n",
       "      <th>Adj Close</th>\n",
       "    </tr>\n",
       "    <tr>\n",
       "      <th>Date</th>\n",
       "      <th></th>\n",
       "      <th></th>\n",
       "      <th></th>\n",
       "      <th></th>\n",
       "      <th></th>\n",
       "      <th></th>\n",
       "    </tr>\n",
       "  </thead>\n",
       "  <tbody>\n",
       "    <tr>\n",
       "      <th>2007-07-30</th>\n",
       "      <td>76.529999</td>\n",
       "      <td>75.440002</td>\n",
       "      <td>75.849998</td>\n",
       "      <td>75.739998</td>\n",
       "      <td>2575.0</td>\n",
       "      <td>75.739998</td>\n",
       "    </tr>\n",
       "    <tr>\n",
       "      <th>2007-07-31</th>\n",
       "      <td>77.169998</td>\n",
       "      <td>75.669998</td>\n",
       "      <td>75.699997</td>\n",
       "      <td>77.050003</td>\n",
       "      <td>3513.0</td>\n",
       "      <td>77.050003</td>\n",
       "    </tr>\n",
       "    <tr>\n",
       "      <th>2007-08-01</th>\n",
       "      <td>77.059998</td>\n",
       "      <td>74.860001</td>\n",
       "      <td>77.000000</td>\n",
       "      <td>75.349998</td>\n",
       "      <td>3930.0</td>\n",
       "      <td>75.349998</td>\n",
       "    </tr>\n",
       "    <tr>\n",
       "      <th>2007-08-02</th>\n",
       "      <td>76.209999</td>\n",
       "      <td>74.269997</td>\n",
       "      <td>75.220001</td>\n",
       "      <td>75.760002</td>\n",
       "      <td>6180.0</td>\n",
       "      <td>75.760002</td>\n",
       "    </tr>\n",
       "    <tr>\n",
       "      <th>2007-08-03</th>\n",
       "      <td>76.000000</td>\n",
       "      <td>74.529999</td>\n",
       "      <td>75.389999</td>\n",
       "      <td>74.750000</td>\n",
       "      <td>4387.0</td>\n",
       "      <td>74.750000</td>\n",
       "    </tr>\n",
       "  </tbody>\n",
       "</table>\n",
       "</div>"
      ],
      "text/plain": [
       "                 High        Low       Open      Close  Volume  Adj Close\n",
       "Date                                                                     \n",
       "2007-07-30  76.529999  75.440002  75.849998  75.739998  2575.0  75.739998\n",
       "2007-07-31  77.169998  75.669998  75.699997  77.050003  3513.0  77.050003\n",
       "2007-08-01  77.059998  74.860001  77.000000  75.349998  3930.0  75.349998\n",
       "2007-08-02  76.209999  74.269997  75.220001  75.760002  6180.0  75.760002\n",
       "2007-08-03  76.000000  74.529999  75.389999  74.750000  4387.0  74.750000"
      ]
     },
     "execution_count": 4,
     "metadata": {},
     "output_type": "execute_result"
    }
   ],
   "source": [
    "# Getting the Brent price data from Yahoo Finance.\n",
    "# Brent Oil is used because that is the relevant oil market for Australia.\n",
    "brent_df = pdr.get_data_yahoo(\"BZ=F\", start, end)\n",
    "brent_df.head()"
   ]
  },
  {
   "cell_type": "code",
   "execution_count": 5,
   "id": "7bd24b94",
   "metadata": {},
   "outputs": [],
   "source": [
    "# Data only goes back to 2007, bit annoying but can still be worked with, needs to be cleaned."
   ]
  },
  {
   "cell_type": "code",
   "execution_count": 6,
   "id": "9c4d37e4",
   "metadata": {},
   "outputs": [
    {
     "data": {
      "text/html": [
       "<div>\n",
       "<style scoped>\n",
       "    .dataframe tbody tr th:only-of-type {\n",
       "        vertical-align: middle;\n",
       "    }\n",
       "\n",
       "    .dataframe tbody tr th {\n",
       "        vertical-align: top;\n",
       "    }\n",
       "\n",
       "    .dataframe thead th {\n",
       "        text-align: right;\n",
       "    }\n",
       "</style>\n",
       "<table border=\"1\" class=\"dataframe\">\n",
       "  <thead>\n",
       "    <tr style=\"text-align: right;\">\n",
       "      <th></th>\n",
       "      <th>High</th>\n",
       "      <th>Low</th>\n",
       "      <th>Open</th>\n",
       "      <th>Close</th>\n",
       "      <th>Volume</th>\n",
       "      <th>Adj Close</th>\n",
       "    </tr>\n",
       "    <tr>\n",
       "      <th>Date</th>\n",
       "      <th></th>\n",
       "      <th></th>\n",
       "      <th></th>\n",
       "      <th></th>\n",
       "      <th></th>\n",
       "      <th></th>\n",
       "    </tr>\n",
       "  </thead>\n",
       "  <tbody>\n",
       "    <tr>\n",
       "      <th>2006-05-15</th>\n",
       "      <td>0.768994</td>\n",
       "      <td>0.760688</td>\n",
       "      <td>0.762835</td>\n",
       "      <td>0.767106</td>\n",
       "      <td>0.0</td>\n",
       "      <td>0.767106</td>\n",
       "    </tr>\n",
       "    <tr>\n",
       "      <th>2006-05-16</th>\n",
       "      <td>0.772618</td>\n",
       "      <td>0.757576</td>\n",
       "      <td>0.766871</td>\n",
       "      <td>0.759417</td>\n",
       "      <td>0.0</td>\n",
       "      <td>0.759417</td>\n",
       "    </tr>\n",
       "    <tr>\n",
       "      <th>2006-05-17</th>\n",
       "      <td>0.767577</td>\n",
       "      <td>0.758725</td>\n",
       "      <td>0.759417</td>\n",
       "      <td>0.764000</td>\n",
       "      <td>0.0</td>\n",
       "      <td>0.764000</td>\n",
       "    </tr>\n",
       "    <tr>\n",
       "      <th>2006-05-18</th>\n",
       "      <td>0.764818</td>\n",
       "      <td>0.753012</td>\n",
       "      <td>0.763884</td>\n",
       "      <td>0.757174</td>\n",
       "      <td>0.0</td>\n",
       "      <td>0.757174</td>\n",
       "    </tr>\n",
       "    <tr>\n",
       "      <th>2006-05-21</th>\n",
       "      <td>0.756888</td>\n",
       "      <td>0.747105</td>\n",
       "      <td>0.756888</td>\n",
       "      <td>0.753409</td>\n",
       "      <td>0.0</td>\n",
       "      <td>0.753409</td>\n",
       "    </tr>\n",
       "  </tbody>\n",
       "</table>\n",
       "</div>"
      ],
      "text/plain": [
       "                High       Low      Open     Close  Volume  Adj Close\n",
       "Date                                                                 \n",
       "2006-05-15  0.768994  0.760688  0.762835  0.767106     0.0   0.767106\n",
       "2006-05-16  0.772618  0.757576  0.766871  0.759417     0.0   0.759417\n",
       "2006-05-17  0.767577  0.758725  0.759417  0.764000     0.0   0.764000\n",
       "2006-05-18  0.764818  0.753012  0.763884  0.757174     0.0   0.757174\n",
       "2006-05-21  0.756888  0.747105  0.756888  0.753409     0.0   0.753409"
      ]
     },
     "execution_count": 6,
     "metadata": {},
     "output_type": "execute_result"
    }
   ],
   "source": [
    "# Now we need the AUDUSD exchange rate for converting brent prices into aud/barrel.\n",
    "aud_df = pdr.get_data_yahoo(\"AUDUSD=X\", start, end)\n",
    "aud_df.head()"
   ]
  },
  {
   "cell_type": "code",
   "execution_count": 7,
   "id": "2ac20798",
   "metadata": {},
   "outputs": [
    {
     "data": {
      "text/html": [
       "<div>\n",
       "<style scoped>\n",
       "    .dataframe tbody tr th:only-of-type {\n",
       "        vertical-align: middle;\n",
       "    }\n",
       "\n",
       "    .dataframe tbody tr th {\n",
       "        vertical-align: top;\n",
       "    }\n",
       "\n",
       "    .dataframe thead th {\n",
       "        text-align: right;\n",
       "    }\n",
       "</style>\n",
       "<table border=\"1\" class=\"dataframe\">\n",
       "  <thead>\n",
       "    <tr style=\"text-align: right;\">\n",
       "      <th></th>\n",
       "      <th>High</th>\n",
       "      <th>Low</th>\n",
       "      <th>Open</th>\n",
       "      <th>Close</th>\n",
       "      <th>Volume</th>\n",
       "      <th>Adj Close</th>\n",
       "      <th>Datetime</th>\n",
       "    </tr>\n",
       "    <tr>\n",
       "      <th>Date</th>\n",
       "      <th></th>\n",
       "      <th></th>\n",
       "      <th></th>\n",
       "      <th></th>\n",
       "      <th></th>\n",
       "      <th></th>\n",
       "      <th></th>\n",
       "    </tr>\n",
       "  </thead>\n",
       "  <tbody>\n",
       "    <tr>\n",
       "      <th>2006-05-15</th>\n",
       "      <td>0.768994</td>\n",
       "      <td>0.760688</td>\n",
       "      <td>0.762835</td>\n",
       "      <td>0.767106</td>\n",
       "      <td>0.0</td>\n",
       "      <td>0.767106</td>\n",
       "      <td>2006-05-15</td>\n",
       "    </tr>\n",
       "    <tr>\n",
       "      <th>2006-05-16</th>\n",
       "      <td>0.772618</td>\n",
       "      <td>0.757576</td>\n",
       "      <td>0.766871</td>\n",
       "      <td>0.759417</td>\n",
       "      <td>0.0</td>\n",
       "      <td>0.759417</td>\n",
       "      <td>2006-05-16</td>\n",
       "    </tr>\n",
       "    <tr>\n",
       "      <th>2006-05-17</th>\n",
       "      <td>0.767577</td>\n",
       "      <td>0.758725</td>\n",
       "      <td>0.759417</td>\n",
       "      <td>0.764000</td>\n",
       "      <td>0.0</td>\n",
       "      <td>0.764000</td>\n",
       "      <td>2006-05-17</td>\n",
       "    </tr>\n",
       "    <tr>\n",
       "      <th>2006-05-18</th>\n",
       "      <td>0.764818</td>\n",
       "      <td>0.753012</td>\n",
       "      <td>0.763884</td>\n",
       "      <td>0.757174</td>\n",
       "      <td>0.0</td>\n",
       "      <td>0.757174</td>\n",
       "      <td>2006-05-18</td>\n",
       "    </tr>\n",
       "    <tr>\n",
       "      <th>2006-05-21</th>\n",
       "      <td>0.756888</td>\n",
       "      <td>0.747105</td>\n",
       "      <td>0.756888</td>\n",
       "      <td>0.753409</td>\n",
       "      <td>0.0</td>\n",
       "      <td>0.753409</td>\n",
       "      <td>2006-05-21</td>\n",
       "    </tr>\n",
       "  </tbody>\n",
       "</table>\n",
       "</div>"
      ],
      "text/plain": [
       "                High       Low      Open     Close  Volume  Adj Close  \\\n",
       "Date                                                                    \n",
       "2006-05-15  0.768994  0.760688  0.762835  0.767106     0.0   0.767106   \n",
       "2006-05-16  0.772618  0.757576  0.766871  0.759417     0.0   0.759417   \n",
       "2006-05-17  0.767577  0.758725  0.759417  0.764000     0.0   0.764000   \n",
       "2006-05-18  0.764818  0.753012  0.763884  0.757174     0.0   0.757174   \n",
       "2006-05-21  0.756888  0.747105  0.756888  0.753409     0.0   0.753409   \n",
       "\n",
       "             Datetime  \n",
       "Date                   \n",
       "2006-05-15 2006-05-15  \n",
       "2006-05-16 2006-05-16  \n",
       "2006-05-17 2006-05-17  \n",
       "2006-05-18 2006-05-18  \n",
       "2006-05-21 2006-05-21  "
      ]
     },
     "execution_count": 7,
     "metadata": {},
     "output_type": "execute_result"
    }
   ],
   "source": [
    "# Added step here, going to take the dates index and make it a new column in the aud and brent dfs.\n",
    "# This is to make the numpy conversion smoother, easier to be done in pandas first.\n",
    "aud_df[\"Datetime\"] = aud_df.index\n",
    "brent_df[\"Datetime\"] = brent_df.index\n",
    "aud_df.head()"
   ]
  },
  {
   "cell_type": "code",
   "execution_count": 8,
   "id": "68cf7e49",
   "metadata": {},
   "outputs": [
    {
     "data": {
      "text/plain": [
       "Date\n",
       "2006-05-15   2006-05-15\n",
       "2006-05-16   2006-05-16\n",
       "2006-05-17   2006-05-17\n",
       "2006-05-18   2006-05-18\n",
       "2006-05-21   2006-05-21\n",
       "                ...    \n",
       "2022-03-01   2022-03-01\n",
       "2022-03-02   2022-03-02\n",
       "2022-03-03   2022-03-03\n",
       "2022-03-04   2022-03-04\n",
       "2022-03-08   2022-03-08\n",
       "Name: Datetime, Length: 4113, dtype: datetime64[ns]"
      ]
     },
     "execution_count": 8,
     "metadata": {},
     "output_type": "execute_result"
    }
   ],
   "source": [
    "# Just checking the series to see if the dtype is correct.\n",
    "aud_df[\"Datetime\"]\n",
    "# Bingo."
   ]
  },
  {
   "cell_type": "code",
   "execution_count": 9,
   "id": "8f6e9366",
   "metadata": {},
   "outputs": [],
   "source": [
    "# This goes to 2006, gonna need to be cleaned and matched."
   ]
  },
  {
   "cell_type": "markdown",
   "id": "e9af63b7",
   "metadata": {},
   "source": [
    "## Data cleaning/wrangling:"
   ]
  },
  {
   "cell_type": "code",
   "execution_count": 10,
   "id": "4f77d2d6",
   "metadata": {},
   "outputs": [
    {
     "data": {
      "text/plain": [
       "0      2004-01-01\n",
       "1      2004-01-02\n",
       "2      2004-01-05\n",
       "3      2004-01-06\n",
       "4      2004-01-07\n",
       "          ...    \n",
       "4722   2022-02-07\n",
       "4723   2022-02-08\n",
       "4724   2022-02-09\n",
       "4725   2022-02-10\n",
       "4726   2022-02-11\n",
       "Name: AVERAGE ULP TGPS\\n(inclusive of GST), Length: 4727, dtype: datetime64[ns]"
      ]
     },
     "execution_count": 10,
     "metadata": {},
     "output_type": "execute_result"
    }
   ],
   "source": [
    "# First off lets convert the dates and times in the petrol df to a datetime object.\n",
    "petrol_df.iloc[:, 0] = pd.to_datetime(petrol_df.iloc[:, 0])\n",
    "petrol_df.iloc[:, 0]"
   ]
  },
  {
   "cell_type": "code",
   "execution_count": 11,
   "id": "39e529d4",
   "metadata": {},
   "outputs": [],
   "source": [
    "# Next lets get the relevant pricing info from the dfs into numpy arrays for easier cleaning.\n",
    "brent_arr = brent_df[[\"Datetime\", \"Close\"]].to_numpy()\n",
    "aud_arr = aud_df[[\"Datetime\", \"Close\"]].to_numpy()\n",
    "petrol_arr = petrol_df.iloc[:, [0, 8]].to_numpy()"
   ]
  },
  {
   "cell_type": "code",
   "execution_count": 12,
   "id": "76ae7f77",
   "metadata": {},
   "outputs": [
    {
     "data": {
      "text/plain": [
       "array([[Timestamp('2007-07-30 00:00:00'), 75.73999786376953],\n",
       "       [Timestamp('2007-07-31 00:00:00'), 77.05000305175781],\n",
       "       [Timestamp('2007-08-01 00:00:00'), 75.3499984741211],\n",
       "       ...,\n",
       "       [Timestamp('2022-03-04 00:00:00'), 118.11000061035156],\n",
       "       [Timestamp('2022-03-07 00:00:00'), 123.20999908447266],\n",
       "       [Timestamp('2022-03-08 00:00:00'), 126.54000091552734]],\n",
       "      dtype=object)"
      ]
     },
     "execution_count": 12,
     "metadata": {},
     "output_type": "execute_result"
    }
   ],
   "source": [
    "brent_arr"
   ]
  },
  {
   "cell_type": "code",
   "execution_count": 13,
   "id": "b402fa1e",
   "metadata": {},
   "outputs": [],
   "source": [
    "# Alrighty, now need to find a way of removing dates which do not have a matching date in the other array.\n",
    "# Can be done using a for loop which checks aud dates are in the brent dates column.\n",
    "# Need to store the true and false info in an empty array so we can use np.argwhere later to extract indexes.\n",
    "delete_arr = np.array([])\n",
    "\n",
    "for i in range(0, aud_arr.shape[0]):\n",
    "    if aud_arr[i, 0] in brent_arr[:, 0]:\n",
    "        delete_arr = np.append(arr = delete_arr, values = True)\n",
    "    else:\n",
    "        delete_arr = np.append(arr = delete_arr, values = False)"
   ]
  },
  {
   "cell_type": "code",
   "execution_count": 14,
   "id": "258d3229",
   "metadata": {},
   "outputs": [
    {
     "data": {
      "text/plain": [
       "array([0., 0., 0., ..., 1., 1., 1.])"
      ]
     },
     "execution_count": 14,
     "metadata": {},
     "output_type": "execute_result"
    }
   ],
   "source": [
    "# It works!\n",
    "delete_arr"
   ]
  },
  {
   "cell_type": "code",
   "execution_count": 15,
   "id": "47c73988",
   "metadata": {},
   "outputs": [],
   "source": [
    "# Now to extract the info for deletion I need the indexes of the unmatched dates, np.argwhere can give me those.\n",
    "# Also need it to be in list form for it to be passed as an input for np.delete.\n",
    "delete_list_1 = list(np.argwhere(delete_arr == 0).squeeze())"
   ]
  },
  {
   "cell_type": "code",
   "execution_count": 16,
   "id": "e2d55aa1",
   "metadata": {},
   "outputs": [],
   "source": [
    "# Now I may need to use this again, so worth creating a general function to make this quicker.\n",
    "def dates_cleaner(base_dates, check_dates):\n",
    "    # Takes an array of base dates and checks if those dates are in another array.\n",
    "    # returns a list of the indexes of mismatched dates, useful for deleting values from an array.\n",
    "    \n",
    "    delete_arr_1 = np.array([])\n",
    "    for i in range(0, base_dates.shape[0]):\n",
    "        if base_dates[i] in check_dates[:, ]:\n",
    "            delete_arr_1 = np.append(arr = delete_arr_1, values = True)\n",
    "        else:\n",
    "            delete_arr_1 = np.append(arr = delete_arr_1, values = False)\n",
    "    delete_list = list(np.argwhere(delete_arr_1 == 0).squeeze())\n",
    "    return delete_list"
   ]
  },
  {
   "cell_type": "code",
   "execution_count": 17,
   "id": "ce2ec3c7",
   "metadata": {},
   "outputs": [],
   "source": [
    "# Cleaning the aud array.\n",
    "aud_arr = np.delete(arr = aud_arr, obj = delete_list_1, axis = 0)"
   ]
  },
  {
   "cell_type": "code",
   "execution_count": 18,
   "id": "b8a500cd",
   "metadata": {},
   "outputs": [],
   "source": [
    "delete_list_2 = dates_cleaner(base_dates = brent_arr[:, 0], check_dates = aud_arr[:, 0])"
   ]
  },
  {
   "cell_type": "code",
   "execution_count": 19,
   "id": "2ce649f8",
   "metadata": {},
   "outputs": [],
   "source": [
    "# Cleaning the brent array of unmatched dates.\n",
    "brent_arr = np.delete(arr = brent_arr, obj = delete_list_2, axis = 0)"
   ]
  },
  {
   "cell_type": "code",
   "execution_count": 20,
   "id": "3ae7d5b1",
   "metadata": {},
   "outputs": [
    {
     "data": {
      "text/plain": [
       "((3188, 2), (3188, 2))"
      ]
     },
     "execution_count": 20,
     "metadata": {},
     "output_type": "execute_result"
    }
   ],
   "source": [
    "# Yay the shapes match.\n",
    "brent_arr.shape, aud_arr.shape"
   ]
  },
  {
   "cell_type": "code",
   "execution_count": 21,
   "id": "aa2958eb",
   "metadata": {},
   "outputs": [
    {
     "data": {
      "text/plain": [
       "array([[Timestamp('2007-07-30 00:00:00'), 75.73999786376953,\n",
       "        0.8520064949989319],\n",
       "       [Timestamp('2007-07-31 00:00:00'), 77.05000305175781,\n",
       "        0.8547739386558533],\n",
       "       [Timestamp('2007-08-01 00:00:00'), 75.3499984741211,\n",
       "        0.8585164546966553],\n",
       "       ...,\n",
       "       [Timestamp('2022-03-03 00:00:00'), 110.45999908447266,\n",
       "        0.729341447353363],\n",
       "       [Timestamp('2022-03-04 00:00:00'), 118.11000061035156,\n",
       "        0.7336999773979187],\n",
       "       [Timestamp('2022-03-08 00:00:00'), 126.54000091552734,\n",
       "        0.7278285026550293]], dtype=object)"
      ]
     },
     "execution_count": 21,
     "metadata": {},
     "output_type": "execute_result"
    }
   ],
   "source": [
    "# All in one array.\n",
    "cleaned_df = np.hstack((brent_arr, aud_arr[:, 1].reshape((aud_arr.shape[0], 1))))\n",
    "cleaned_df"
   ]
  },
  {
   "cell_type": "code",
   "execution_count": 22,
   "id": "093c3d2d",
   "metadata": {},
   "outputs": [
    {
     "data": {
      "text/plain": [
       "array([[88.89603343207435],\n",
       "       [90.14079579089679],\n",
       "       [87.76768116895903],\n",
       "       ...,\n",
       "       [151.45169588991592],\n",
       "       [160.97860739921376],\n",
       "       [173.85963926106893]], dtype=object)"
      ]
     },
     "execution_count": 22,
     "metadata": {},
     "output_type": "execute_result"
    }
   ],
   "source": [
    "# Brent oil price in AUD.\n",
    "brent_aud_arr = cleaned_df[:, 1]/cleaned_df[:, 2]\n",
    "brent_aud_arr = brent_aud_arr.reshape((brent_aud_arr.shape[0], 1))\n",
    "brent_aud_arr"
   ]
  },
  {
   "cell_type": "code",
   "execution_count": 23,
   "id": "d4a57464",
   "metadata": {},
   "outputs": [
    {
     "data": {
      "text/plain": [
       "array([[Timestamp('2007-07-30 00:00:00'), 75.73999786376953,\n",
       "        0.8520064949989319, 88.89603343207435],\n",
       "       [Timestamp('2007-07-31 00:00:00'), 77.05000305175781,\n",
       "        0.8547739386558533, 90.14079579089679],\n",
       "       [Timestamp('2007-08-01 00:00:00'), 75.3499984741211,\n",
       "        0.8585164546966553, 87.76768116895903],\n",
       "       ...,\n",
       "       [Timestamp('2022-03-03 00:00:00'), 110.45999908447266,\n",
       "        0.729341447353363, 151.45169588991592],\n",
       "       [Timestamp('2022-03-04 00:00:00'), 118.11000061035156,\n",
       "        0.7336999773979187, 160.97860739921376],\n",
       "       [Timestamp('2022-03-08 00:00:00'), 126.54000091552734,\n",
       "        0.7278285026550293, 173.85963926106893]], dtype=object)"
      ]
     },
     "execution_count": 23,
     "metadata": {},
     "output_type": "execute_result"
    }
   ],
   "source": [
    "# We now have our pricing info stored in one clean array.\n",
    "cleaned_df = np.hstack((cleaned_df, brent_aud_arr))\n",
    "cleaned_df"
   ]
  },
  {
   "cell_type": "code",
   "execution_count": 24,
   "id": "08f2fd4a",
   "metadata": {},
   "outputs": [],
   "source": [
    "# Now we need to clean the petrol prices array using the same processes as above."
   ]
  },
  {
   "cell_type": "code",
   "execution_count": 25,
   "id": "9e54e64e",
   "metadata": {},
   "outputs": [
    {
     "data": {
      "text/plain": [
       "array([[Timestamp('2004-01-01 00:00:00'), 86.4],\n",
       "       [Timestamp('2004-01-02 00:00:00'), 86.4],\n",
       "       [Timestamp('2004-01-05 00:00:00'), 86.5],\n",
       "       ...,\n",
       "       [Timestamp('2022-02-09 00:00:00'), 166.3],\n",
       "       [Timestamp('2022-02-10 00:00:00'), 166.5],\n",
       "       [Timestamp('2022-02-11 00:00:00'), 166.7]], dtype=object)"
      ]
     },
     "execution_count": 25,
     "metadata": {},
     "output_type": "execute_result"
    }
   ],
   "source": [
    "# Just a double check of the petrol array.\n",
    "petrol_arr"
   ]
  },
  {
   "cell_type": "code",
   "execution_count": 26,
   "id": "f2be9c86",
   "metadata": {},
   "outputs": [],
   "source": [
    "# Time to use the date cleaning function.\n",
    "delete_list_3 = dates_cleaner(base_dates = petrol_arr[:, 0], check_dates = cleaned_df[:, 0])"
   ]
  },
  {
   "cell_type": "code",
   "execution_count": 27,
   "id": "103508fa",
   "metadata": {},
   "outputs": [
    {
     "data": {
      "text/plain": [
       "array([[Timestamp('2007-07-30 00:00:00'), 118.5],\n",
       "       [Timestamp('2007-07-31 00:00:00'), 118.2],\n",
       "       [Timestamp('2007-08-01 00:00:00'), 118.2],\n",
       "       ...,\n",
       "       [Timestamp('2022-02-09 00:00:00'), 166.3],\n",
       "       [Timestamp('2022-02-10 00:00:00'), 166.5],\n",
       "       [Timestamp('2022-02-11 00:00:00'), 166.7]], dtype=object)"
      ]
     },
     "execution_count": 27,
     "metadata": {},
     "output_type": "execute_result"
    }
   ],
   "source": [
    "# Now to clean the petrol data off unmatched dates.\n",
    "petrol_arr = np.delete(arr = petrol_arr, obj = delete_list_3, axis = 0)\n",
    "petrol_arr"
   ]
  },
  {
   "cell_type": "code",
   "execution_count": 28,
   "id": "e5cbfaf6",
   "metadata": {},
   "outputs": [
    {
     "data": {
      "text/plain": [
       "((3173, 2), (3188, 2), (3188, 2))"
      ]
     },
     "execution_count": 28,
     "metadata": {},
     "output_type": "execute_result"
    }
   ],
   "source": [
    "# Nearly matched, just the recent dates missing from the petrol array, because the AIP dont update the database often.\n",
    "petrol_arr.shape, brent_arr.shape, aud_arr.shape"
   ]
  },
  {
   "cell_type": "code",
   "execution_count": 29,
   "id": "4249389c",
   "metadata": {},
   "outputs": [
    {
     "data": {
      "text/plain": [
       "[3173,\n",
       " 3174,\n",
       " 3175,\n",
       " 3176,\n",
       " 3177,\n",
       " 3178,\n",
       " 3179,\n",
       " 3180,\n",
       " 3181,\n",
       " 3182,\n",
       " 3183,\n",
       " 3184,\n",
       " 3185,\n",
       " 3186,\n",
       " 3187]"
      ]
     },
     "execution_count": 29,
     "metadata": {},
     "output_type": "execute_result"
    }
   ],
   "source": [
    "# Just rerun the datescleaner function again.\n",
    "# Using the cleaned df dates.\n",
    "delete_list_4 = dates_cleaner(base_dates = cleaned_df[:, 0], check_dates = petrol_arr[:, 0])\n",
    "delete_list_4"
   ]
  },
  {
   "cell_type": "code",
   "execution_count": 30,
   "id": "41c8fa98",
   "metadata": {},
   "outputs": [
    {
     "data": {
      "text/plain": [
       "(3173, 4)"
      ]
     },
     "execution_count": 30,
     "metadata": {},
     "output_type": "execute_result"
    }
   ],
   "source": [
    "cleaned_arr = np.delete(arr = cleaned_df, obj = delete_list_4, axis = 0)\n",
    "cleaned_arr.shape"
   ]
  },
  {
   "cell_type": "code",
   "execution_count": 31,
   "id": "bd7298f5",
   "metadata": {},
   "outputs": [
    {
     "data": {
      "text/plain": [
       "((3173, 4), (3173, 2))"
      ]
     },
     "execution_count": 31,
     "metadata": {},
     "output_type": "execute_result"
    }
   ],
   "source": [
    "# Shapes are matched, lets stack them together.\n",
    "cleaned_arr.shape, petrol_arr.shape"
   ]
  },
  {
   "cell_type": "code",
   "execution_count": 32,
   "id": "e6c20877",
   "metadata": {},
   "outputs": [
    {
     "data": {
      "text/plain": [
       "array([[118.5],\n",
       "       [118.2],\n",
       "       [118.2],\n",
       "       ...,\n",
       "       [166.3],\n",
       "       [166.5],\n",
       "       [166.7]], dtype=object)"
      ]
     },
     "execution_count": 32,
     "metadata": {},
     "output_type": "execute_result"
    }
   ],
   "source": [
    "# Reshaping the petrol prices arrray for easier stacking and coding.\n",
    "petrol_prices_arr = petrol_arr[:, 1].reshape((petrol_arr.shape[0], 1))\n",
    "petrol_prices_arr"
   ]
  },
  {
   "cell_type": "code",
   "execution_count": 33,
   "id": "ba8c7d56",
   "metadata": {},
   "outputs": [
    {
     "data": {
      "text/plain": [
       "array([[Timestamp('2007-07-30 00:00:00'), 75.73999786376953,\n",
       "        0.8520064949989319, 88.89603343207435, 118.5],\n",
       "       [Timestamp('2007-07-31 00:00:00'), 77.05000305175781,\n",
       "        0.8547739386558533, 90.14079579089679, 118.2],\n",
       "       [Timestamp('2007-08-01 00:00:00'), 75.3499984741211,\n",
       "        0.8585164546966553, 87.76768116895903, 118.2],\n",
       "       ...,\n",
       "       [Timestamp('2022-02-09 00:00:00'), 91.55000305175781,\n",
       "        0.7145919799804688, 128.11507212026095, 166.3],\n",
       "       [Timestamp('2022-02-10 00:00:00'), 91.41000366210938,\n",
       "        0.7177411317825317, 127.3579005220028, 166.5],\n",
       "       [Timestamp('2022-02-11 00:00:00'), 94.44000244140625,\n",
       "        0.7161697745323181, 131.86817679240738, 166.7]], dtype=object)"
      ]
     },
     "execution_count": 33,
     "metadata": {},
     "output_type": "execute_result"
    }
   ],
   "source": [
    "# Data is now all cleaned and stored in a matrix array.\n",
    "cleaned_arr = np.hstack((cleaned_arr, petrol_prices_arr))\n",
    "cleaned_arr"
   ]
  },
  {
   "cell_type": "code",
   "execution_count": 34,
   "id": "74ce065f",
   "metadata": {},
   "outputs": [
    {
     "data": {
      "text/html": [
       "<div>\n",
       "<style scoped>\n",
       "    .dataframe tbody tr th:only-of-type {\n",
       "        vertical-align: middle;\n",
       "    }\n",
       "\n",
       "    .dataframe tbody tr th {\n",
       "        vertical-align: top;\n",
       "    }\n",
       "\n",
       "    .dataframe thead th {\n",
       "        text-align: right;\n",
       "    }\n",
       "</style>\n",
       "<table border=\"1\" class=\"dataframe\">\n",
       "  <thead>\n",
       "    <tr style=\"text-align: right;\">\n",
       "      <th></th>\n",
       "      <th>Dates</th>\n",
       "      <th>BCOUSD</th>\n",
       "      <th>AUDUSD</th>\n",
       "      <th>BCOAUD</th>\n",
       "      <th>National Petrol Price</th>\n",
       "    </tr>\n",
       "  </thead>\n",
       "  <tbody>\n",
       "    <tr>\n",
       "      <th>0</th>\n",
       "      <td>2007-07-30</td>\n",
       "      <td>75.739998</td>\n",
       "      <td>0.852006</td>\n",
       "      <td>88.896033</td>\n",
       "      <td>118.5</td>\n",
       "    </tr>\n",
       "    <tr>\n",
       "      <th>1</th>\n",
       "      <td>2007-07-31</td>\n",
       "      <td>77.050003</td>\n",
       "      <td>0.854774</td>\n",
       "      <td>90.140796</td>\n",
       "      <td>118.2</td>\n",
       "    </tr>\n",
       "    <tr>\n",
       "      <th>2</th>\n",
       "      <td>2007-08-01</td>\n",
       "      <td>75.349998</td>\n",
       "      <td>0.858516</td>\n",
       "      <td>87.767681</td>\n",
       "      <td>118.2</td>\n",
       "    </tr>\n",
       "    <tr>\n",
       "      <th>3</th>\n",
       "      <td>2007-08-02</td>\n",
       "      <td>75.760002</td>\n",
       "      <td>0.857927</td>\n",
       "      <td>88.305857</td>\n",
       "      <td>118.2</td>\n",
       "    </tr>\n",
       "    <tr>\n",
       "      <th>4</th>\n",
       "      <td>2007-08-06</td>\n",
       "      <td>71.169998</td>\n",
       "      <td>0.855066</td>\n",
       "      <td>83.23331</td>\n",
       "      <td>118.6</td>\n",
       "    </tr>\n",
       "  </tbody>\n",
       "</table>\n",
       "</div>"
      ],
      "text/plain": [
       "       Dates     BCOUSD    AUDUSD     BCOAUD National Petrol Price\n",
       "0 2007-07-30  75.739998  0.852006  88.896033                 118.5\n",
       "1 2007-07-31  77.050003  0.854774  90.140796                 118.2\n",
       "2 2007-08-01  75.349998  0.858516  87.767681                 118.2\n",
       "3 2007-08-02  75.760002  0.857927  88.305857                 118.2\n",
       "4 2007-08-06  71.169998  0.855066   83.23331                 118.6"
      ]
     },
     "execution_count": 34,
     "metadata": {},
     "output_type": "execute_result"
    }
   ],
   "source": [
    "# Finally, lets put this all back into a neat dataframe so we can use it as a base for the linear model.\n",
    "# Btw \"BCO\" is an acronym for \"Brent Crude Oil\".\n",
    "final_df = pd.DataFrame(data = cleaned_arr, columns = [\"Dates\", \"BCOUSD\", \"AUDUSD\", \"BCOAUD\", \"National Petrol Price\"])\n",
    "final_df.head()"
   ]
  },
  {
   "cell_type": "code",
   "execution_count": 35,
   "id": "e8eebebf",
   "metadata": {},
   "outputs": [],
   "source": [
    "# Gonna divide the petrol prices by 100 to avoid confusion.\n",
    "final_df[\"National Petrol Price\"] = final_df[\"National Petrol Price\"]/100"
   ]
  },
  {
   "cell_type": "code",
   "execution_count": 36,
   "id": "c7327681",
   "metadata": {},
   "outputs": [
    {
     "data": {
      "text/html": [
       "<div>\n",
       "<style scoped>\n",
       "    .dataframe tbody tr th:only-of-type {\n",
       "        vertical-align: middle;\n",
       "    }\n",
       "\n",
       "    .dataframe tbody tr th {\n",
       "        vertical-align: top;\n",
       "    }\n",
       "\n",
       "    .dataframe thead th {\n",
       "        text-align: right;\n",
       "    }\n",
       "</style>\n",
       "<table border=\"1\" class=\"dataframe\">\n",
       "  <thead>\n",
       "    <tr style=\"text-align: right;\">\n",
       "      <th></th>\n",
       "      <th>Dates</th>\n",
       "      <th>BCOUSD</th>\n",
       "      <th>AUDUSD</th>\n",
       "      <th>BCOAUD</th>\n",
       "      <th>National Petrol Price</th>\n",
       "    </tr>\n",
       "  </thead>\n",
       "  <tbody>\n",
       "    <tr>\n",
       "      <th>3168</th>\n",
       "      <td>2022-02-07</td>\n",
       "      <td>92.690002</td>\n",
       "      <td>0.70803</td>\n",
       "      <td>130.912571</td>\n",
       "      <td>1.651</td>\n",
       "    </tr>\n",
       "    <tr>\n",
       "      <th>3169</th>\n",
       "      <td>2022-02-08</td>\n",
       "      <td>90.779999</td>\n",
       "      <td>0.713</td>\n",
       "      <td>127.321208</td>\n",
       "      <td>1.659</td>\n",
       "    </tr>\n",
       "    <tr>\n",
       "      <th>3170</th>\n",
       "      <td>2022-02-09</td>\n",
       "      <td>91.550003</td>\n",
       "      <td>0.714592</td>\n",
       "      <td>128.115072</td>\n",
       "      <td>1.663</td>\n",
       "    </tr>\n",
       "    <tr>\n",
       "      <th>3171</th>\n",
       "      <td>2022-02-10</td>\n",
       "      <td>91.410004</td>\n",
       "      <td>0.717741</td>\n",
       "      <td>127.357901</td>\n",
       "      <td>1.665</td>\n",
       "    </tr>\n",
       "    <tr>\n",
       "      <th>3172</th>\n",
       "      <td>2022-02-11</td>\n",
       "      <td>94.440002</td>\n",
       "      <td>0.71617</td>\n",
       "      <td>131.868177</td>\n",
       "      <td>1.667</td>\n",
       "    </tr>\n",
       "  </tbody>\n",
       "</table>\n",
       "</div>"
      ],
      "text/plain": [
       "          Dates     BCOUSD    AUDUSD      BCOAUD National Petrol Price\n",
       "3168 2022-02-07  92.690002   0.70803  130.912571                 1.651\n",
       "3169 2022-02-08  90.779999     0.713  127.321208                 1.659\n",
       "3170 2022-02-09  91.550003  0.714592  128.115072                 1.663\n",
       "3171 2022-02-10  91.410004  0.717741  127.357901                 1.665\n",
       "3172 2022-02-11  94.440002   0.71617  131.868177                 1.667"
      ]
     },
     "execution_count": 36,
     "metadata": {},
     "output_type": "execute_result"
    }
   ],
   "source": [
    "final_df.tail()"
   ]
  },
  {
   "cell_type": "markdown",
   "id": "4f7a158b",
   "metadata": {},
   "source": [
    "## Making the model:"
   ]
  },
  {
   "cell_type": "code",
   "execution_count": 37,
   "id": "8323a46e",
   "metadata": {},
   "outputs": [],
   "source": [
    "# Before using sklearn, lets use stats models for some descriptive stats.\n",
    "# Lets define our x and y and then add constant for statsmodels.\n",
    "x1 = final_df[\"BCOAUD\"].astype(dtype = \"float\")\n",
    "y = final_df[\"National Petrol Price\"].astype(dtype = \"float\")"
   ]
  },
  {
   "cell_type": "code",
   "execution_count": 38,
   "id": "e2af9720",
   "metadata": {},
   "outputs": [
    {
     "name": "stderr",
     "output_type": "stream",
     "text": [
      "C:\\Users\\Bstaj\\anaconda3\\lib\\site-packages\\statsmodels\\tsa\\tsatools.py:142: FutureWarning: In a future version of pandas all arguments of concat except for the argument 'objs' will be keyword-only\n",
      "  x = pd.concat(x[::order], 1)\n"
     ]
    }
   ],
   "source": [
    "x = sm.add_constant(data = x1)"
   ]
  },
  {
   "cell_type": "code",
   "execution_count": 39,
   "id": "9d2ac7fa",
   "metadata": {},
   "outputs": [],
   "source": [
    "# Making the model.\n",
    "lin_mod_1 = sm.OLS(endog = y, exog = x).fit()"
   ]
  },
  {
   "cell_type": "code",
   "execution_count": 40,
   "id": "4210f167",
   "metadata": {},
   "outputs": [
    {
     "data": {
      "text/html": [
       "<table class=\"simpletable\">\n",
       "<caption>OLS Regression Results</caption>\n",
       "<tr>\n",
       "  <th>Dep. Variable:</th>    <td>National Petrol Price</td> <th>  R-squared:         </th> <td>   0.858</td> \n",
       "</tr>\n",
       "<tr>\n",
       "  <th>Model:</th>                     <td>OLS</td>          <th>  Adj. R-squared:    </th> <td>   0.858</td> \n",
       "</tr>\n",
       "<tr>\n",
       "  <th>Method:</th>               <td>Least Squares</td>     <th>  F-statistic:       </th> <td>1.916e+04</td>\n",
       "</tr>\n",
       "<tr>\n",
       "  <th>Date:</th>               <td>Tue, 08 Mar 2022</td>    <th>  Prob (F-statistic):</th>  <td>  0.00</td>  \n",
       "</tr>\n",
       "<tr>\n",
       "  <th>Time:</th>                   <td>18:05:58</td>        <th>  Log-Likelihood:    </th> <td>  4792.5</td> \n",
       "</tr>\n",
       "<tr>\n",
       "  <th>No. Observations:</th>        <td>  3173</td>         <th>  AIC:               </th> <td>  -9581.</td> \n",
       "</tr>\n",
       "<tr>\n",
       "  <th>Df Residuals:</th>            <td>  3171</td>         <th>  BIC:               </th> <td>  -9569.</td> \n",
       "</tr>\n",
       "<tr>\n",
       "  <th>Df Model:</th>                <td>     1</td>         <th>                     </th>     <td> </td>    \n",
       "</tr>\n",
       "<tr>\n",
       "  <th>Covariance Type:</th>        <td>nonrobust</td>       <th>                     </th>     <td> </td>    \n",
       "</tr>\n",
       "</table>\n",
       "<table class=\"simpletable\">\n",
       "<tr>\n",
       "     <td></td>       <th>coef</th>     <th>std err</th>      <th>t</th>      <th>P>|t|</th>  <th>[0.025</th>    <th>0.975]</th>  \n",
       "</tr>\n",
       "<tr>\n",
       "  <th>const</th>  <td>    0.6815</td> <td>    0.004</td> <td>  161.250</td> <td> 0.000</td> <td>    0.673</td> <td>    0.690</td>\n",
       "</tr>\n",
       "<tr>\n",
       "  <th>BCOAUD</th> <td>    0.0063</td> <td> 4.55e-05</td> <td>  138.415</td> <td> 0.000</td> <td>    0.006</td> <td>    0.006</td>\n",
       "</tr>\n",
       "</table>\n",
       "<table class=\"simpletable\">\n",
       "<tr>\n",
       "  <th>Omnibus:</th>       <td>89.526</td> <th>  Durbin-Watson:     </th> <td>   0.073</td>\n",
       "</tr>\n",
       "<tr>\n",
       "  <th>Prob(Omnibus):</th> <td> 0.000</td> <th>  Jarque-Bera (JB):  </th> <td> 104.982</td>\n",
       "</tr>\n",
       "<tr>\n",
       "  <th>Skew:</th>          <td> 0.364</td> <th>  Prob(JB):          </th> <td>1.60e-23</td>\n",
       "</tr>\n",
       "<tr>\n",
       "  <th>Kurtosis:</th>      <td> 3.513</td> <th>  Cond. No.          </th> <td>    413.</td>\n",
       "</tr>\n",
       "</table><br/><br/>Notes:<br/>[1] Standard Errors assume that the covariance matrix of the errors is correctly specified."
      ],
      "text/plain": [
       "<class 'statsmodels.iolib.summary.Summary'>\n",
       "\"\"\"\n",
       "                              OLS Regression Results                             \n",
       "=================================================================================\n",
       "Dep. Variable:     National Petrol Price   R-squared:                       0.858\n",
       "Model:                               OLS   Adj. R-squared:                  0.858\n",
       "Method:                    Least Squares   F-statistic:                 1.916e+04\n",
       "Date:                   Tue, 08 Mar 2022   Prob (F-statistic):               0.00\n",
       "Time:                           18:05:58   Log-Likelihood:                 4792.5\n",
       "No. Observations:                   3173   AIC:                            -9581.\n",
       "Df Residuals:                       3171   BIC:                            -9569.\n",
       "Df Model:                              1                                         \n",
       "Covariance Type:               nonrobust                                         \n",
       "==============================================================================\n",
       "                 coef    std err          t      P>|t|      [0.025      0.975]\n",
       "------------------------------------------------------------------------------\n",
       "const          0.6815      0.004    161.250      0.000       0.673       0.690\n",
       "BCOAUD         0.0063   4.55e-05    138.415      0.000       0.006       0.006\n",
       "==============================================================================\n",
       "Omnibus:                       89.526   Durbin-Watson:                   0.073\n",
       "Prob(Omnibus):                  0.000   Jarque-Bera (JB):              104.982\n",
       "Skew:                           0.364   Prob(JB):                     1.60e-23\n",
       "Kurtosis:                       3.513   Cond. No.                         413.\n",
       "==============================================================================\n",
       "\n",
       "Notes:\n",
       "[1] Standard Errors assume that the covariance matrix of the errors is correctly specified.\n",
       "\"\"\""
      ]
     },
     "execution_count": 40,
     "metadata": {},
     "output_type": "execute_result"
    }
   ],
   "source": [
    "# Summary table.\n",
    "lin_mod_1.summary()\n",
    "# Very strong R-squared as to be expected."
   ]
  },
  {
   "cell_type": "code",
   "execution_count": 41,
   "id": "793a10ed",
   "metadata": {},
   "outputs": [
    {
     "data": {
      "image/png": "[encoded data removed]",
      "text/plain": [
       "<Figure size 720x576 with 1 Axes>"
      ]
     },
     "metadata": {},
     "output_type": "display_data"
    }
   ],
   "source": [
    "# Next lets look at a preliminary scatterplot, just to see how the relationship looks.\n",
    "plt.figure(figsize = (10, 8))\n",
    "plt.scatter(x = x1, y = y, marker = \"D\", color = \"crimson\", s = 3)\n",
    "plt.title(label = \"BCOAUD/Petrol Price Scatterplot\", fontsize = 25, loc = \"left\")\n",
    "plt.xlabel(xlabel = \"BCOAUD [$][AUD]\", fontsize = 15)\n",
    "plt.ylabel(ylabel = \"Australian National Petrol Prices [$][AUD]\", fontsize = 15)\n",
    "plt.show()"
   ]
  },
  {
   "cell_type": "code",
   "execution_count": 42,
   "id": "a2c756a1",
   "metadata": {},
   "outputs": [],
   "source": [
    "# Would look much nicer if it had more datapoints."
   ]
  },
  {
   "cell_type": "code",
   "execution_count": 43,
   "id": "5ad4384f",
   "metadata": {},
   "outputs": [],
   "source": [
    "# Now lets create a linear regression model using sklearn.\n",
    "lin_mod_2 = LinearRegression()"
   ]
  },
  {
   "cell_type": "code",
   "execution_count": 44,
   "id": "87ba6b60",
   "metadata": {},
   "outputs": [],
   "source": [
    "# Sklearn requires a 2-d array(s) as arguments.\n",
    "x2 = x1.to_numpy().reshape((x1.shape[0], 1))\n",
    "y2 = y.to_numpy().reshape((y.shape[0], 1))"
   ]
  },
  {
   "cell_type": "code",
   "execution_count": 45,
   "id": "c8994167",
   "metadata": {},
   "outputs": [
    {
     "data": {
      "text/plain": [
       "LinearRegression()"
      ]
     },
     "execution_count": 45,
     "metadata": {},
     "output_type": "execute_result"
    }
   ],
   "source": [
    "# Fitting the model.\n",
    "lin_mod_2.fit(X = x2, y = y2)"
   ]
  },
  {
   "cell_type": "code",
   "execution_count": 46,
   "id": "7717fd65",
   "metadata": {},
   "outputs": [
    {
     "data": {
      "text/plain": [
       "0.857991539734444"
      ]
     },
     "execution_count": 46,
     "metadata": {},
     "output_type": "execute_result"
    }
   ],
   "source": [
    "# R-Squared matched out statsmodels output.\n",
    "lin_mod_2.score(X = x2, y = y2)"
   ]
  },
  {
   "cell_type": "markdown",
   "id": "9e1c44b5",
   "metadata": {},
   "source": [
    "## Regression equation: y = b0 + b1x1 + error"
   ]
  },
  {
   "cell_type": "code",
   "execution_count": 47,
   "id": "ccd79edc",
   "metadata": {},
   "outputs": [],
   "source": [
    "# Now lets build the regression equation.\n",
    "# Also the indexing is so I have floats instead of arrays.\n",
    "b0 = lin_mod_2.intercept_[0]\n",
    "b1 = lin_mod_2.coef_[0]\n",
    "x_in = np.linspace(start = 20, stop = 160, num = 500)"
   ]
  },
  {
   "cell_type": "code",
   "execution_count": 48,
   "id": "555321f2",
   "metadata": {},
   "outputs": [],
   "source": [
    "yhat = b0 + b1*x_in"
   ]
  },
  {
   "cell_type": "code",
   "execution_count": 49,
   "id": "da7ef0af",
   "metadata": {},
   "outputs": [
    {
     "data": {
      "image/png": "[encoded data removed]",
      "text/plain": [
       "<Figure size 720x576 with 1 Axes>"
      ]
     },
     "metadata": {},
     "output_type": "display_data"
    }
   ],
   "source": [
    "# Now a scatter featuring the linear model.\n",
    "plt.figure(figsize = (10, 8))\n",
    "plt.scatter(x = x1, y = y, marker = \"D\", color = \"crimson\", s = 3)\n",
    "plt.plot(x_in, yhat, lw = 2, c = \"navy\")\n",
    "plt.title(label = \"BCOAUD/Petrol Price Scatterplot\", fontsize = 25, loc = \"left\")\n",
    "plt.xlabel(xlabel = \"BCOAUD [$][AUD]\", fontsize = 15)\n",
    "plt.ylabel(ylabel = \"Australian National Petrol Prices [$][AUD]\", fontsize = 15)\n",
    "plt.show()"
   ]
  },
  {
   "cell_type": "markdown",
   "id": "422f1c6e",
   "metadata": {},
   "source": [
    "## Predictions:"
   ]
  },
  {
   "cell_type": "code",
   "execution_count": 50,
   "id": "0a7e6fff",
   "metadata": {},
   "outputs": [
    {
     "data": {
      "text/plain": [
       "126.54000091552734"
      ]
     },
     "execution_count": 50,
     "metadata": {},
     "output_type": "execute_result"
    }
   ],
   "source": [
    "# This model can be used to make predictions, can use current BCOAUD prices to figure out roughly where prices will go.\n",
    "# This is the live brent crude price.\n",
    "current_brent = brent_df.iloc[-1, 3]\n",
    "current_brent"
   ]
  },
  {
   "cell_type": "code",
   "execution_count": 51,
   "id": "91612646",
   "metadata": {},
   "outputs": [
    {
     "data": {
      "text/plain": [
       "173.85963926106893"
      ]
     },
     "execution_count": 51,
     "metadata": {},
     "output_type": "execute_result"
    }
   ],
   "source": [
    "# Put this into aud as well.\n",
    "# Live BCOAUD price.\n",
    "current_brent_aud = current_brent/aud_df.iloc[-1, 3]\n",
    "current_brent_aud"
   ]
  },
  {
   "cell_type": "code",
   "execution_count": 52,
   "id": "d736ad5c",
   "metadata": {},
   "outputs": [
    {
     "data": {
      "text/plain": [
       "1.7773303901625908"
      ]
     },
     "execution_count": 52,
     "metadata": {},
     "output_type": "execute_result"
    }
   ],
   "source": [
    "lin_mod_2.predict(X = current_brent_aud.reshape((-1, 1)))[0][0]"
   ]
  },
  {
   "cell_type": "markdown",
   "id": "9718147b",
   "metadata": {},
   "source": [
    "## Adjusting the Model to Prevent Underestimation"
   ]
  },
  {
   "cell_type": "code",
   "execution_count": 53,
   "id": "1bc371c9",
   "metadata": {},
   "outputs": [],
   "source": [
    "# Impressive predictions, unfortunately it underestimates the prices.\n",
    "# Easy fix, just add 20 to 30 cents to the predictions, labelled as \"Adjusted Predictions\".\n",
    "\n",
    "petrol_predict = lin_mod_2.predict(X = current_brent_aud.reshape((-1, 1)))[0][0]\n",
    "petrol_predict_adj = lin_mod_2.predict(X = current_brent_aud.reshape((-1, 1)))[0][0] + 0.30"
   ]
  },
  {
   "cell_type": "code",
   "execution_count": 54,
   "id": "a4596b26",
   "metadata": {},
   "outputs": [
    {
     "data": {
      "text/html": [
       "<div>\n",
       "<style scoped>\n",
       "    .dataframe tbody tr th:only-of-type {\n",
       "        vertical-align: middle;\n",
       "    }\n",
       "\n",
       "    .dataframe tbody tr th {\n",
       "        vertical-align: top;\n",
       "    }\n",
       "\n",
       "    .dataframe thead th {\n",
       "        text-align: right;\n",
       "    }\n",
       "</style>\n",
       "<table border=\"1\" class=\"dataframe\">\n",
       "  <thead>\n",
       "    <tr style=\"text-align: right;\">\n",
       "      <th></th>\n",
       "      <th>Simple Prediction [AUD][$]</th>\n",
       "      <th>Adjusted Prediction [AUD][$]</th>\n",
       "    </tr>\n",
       "  </thead>\n",
       "  <tbody>\n",
       "    <tr>\n",
       "      <th>0</th>\n",
       "      <td>1.77733</td>\n",
       "      <td>2.07733</td>\n",
       "    </tr>\n",
       "  </tbody>\n",
       "</table>\n",
       "</div>"
      ],
      "text/plain": [
       "   Simple Prediction [AUD][$]  Adjusted Prediction [AUD][$]\n",
       "0                     1.77733                       2.07733"
      ]
     },
     "execution_count": 54,
     "metadata": {},
     "output_type": "execute_result"
    }
   ],
   "source": [
    "predict_df = pd.DataFrame(data = {\"Simple Prediction [AUD][$]\": petrol_predict, \"Adjusted Prediction [AUD][$]\": petrol_predict_adj}, index = [0])\n",
    "predict_df"
   ]
  },
  {
   "cell_type": "code",
   "execution_count": null,
   "id": "5864f558",
   "metadata": {},
   "outputs": [],
   "source": []
  }
 ],
 "metadata": {
  "kernelspec": {
   "display_name": "Python 3 (ipykernel)",
   "language": "python",
   "name": "python3"
  },
  "language_info": {
   "codemirror_mode": {
    "name": "ipython",
    "version": 3
   },
   "file_extension": ".py",
   "mimetype": "text/x-python",
   "name": "python",
   "nbconvert_exporter": "python",
   "pygments_lexer": "ipython3",
   "version": "3.9.7"
  }
 },
 "nbformat": 4,
 "nbformat_minor": 5
}
